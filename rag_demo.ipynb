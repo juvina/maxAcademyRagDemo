{
 "cells": [
  {
   "cell_type": "code",
   "execution_count": 7,
   "id": "584fe8e8-6de1-4ed9-ae41-8872131b23cb",
   "metadata": {
    "ExecuteTime": {
     "end_time": "2024-09-21T23:57:16.790212Z",
     "start_time": "2024-09-21T23:57:16.784970Z"
    }
   },
   "outputs": [],
   "source": [
    "# Import necessary libraries\n",
    "from dotenv import load_dotenv\n"
   ]
  },
  {
   "cell_type": "code",
   "execution_count": 8,
   "id": "9b5f4ed8-6b7a-43fc-8524-c21eabbdb093",
   "metadata": {
    "ExecuteTime": {
     "end_time": "2024-09-21T23:57:18.093709Z",
     "start_time": "2024-09-21T23:57:18.086403Z"
    }
   },
   "outputs": [],
   "source": [
    "from llama_index.core import VectorStoreIndex, SimpleDirectoryReader\n"
   ]
  },
  {
   "cell_type": "code",
   "execution_count": null,
   "id": "f13915f01ef0e8e5",
   "metadata": {},
   "outputs": [],
   "source": [
    "\n"
   ]
  },
  {
   "cell_type": "code",
   "execution_count": 1,
   "id": "f3f388d611c5a738",
   "metadata": {
    "ExecuteTime": {
     "end_time": "2024-09-22T00:00:09.242289Z",
     "start_time": "2024-09-22T00:00:09.232398Z"
    }
   },
   "outputs": [
    {
     "ename": "NameError",
     "evalue": "name 'load_dotenv' is not defined",
     "output_type": "error",
     "traceback": [
      "\u001b[0;31m---------------------------------------------------------------------------\u001b[0m",
      "\u001b[0;31mNameError\u001b[0m                                 Traceback (most recent call last)",
      "Cell \u001b[0;32mIn[1], line 2\u001b[0m\n\u001b[1;32m      1\u001b[0m \u001b[38;5;66;03m# Load environment variable s\u001b[39;00m\n\u001b[0;32m----> 2\u001b[0m \u001b[43mload_dotenv\u001b[49m()\n",
      "\u001b[0;31mNameError\u001b[0m: name 'load_dotenv' is not defined"
     ]
    }
   ],
   "source": [
    "# Load environment variable s\n",
    "load_dotenv()"
   ]
  },
  {
   "cell_type": "code",
   "execution_count": 12,
   "id": "8d0f128d57b0d72c",
   "metadata": {
    "ExecuteTime": {
     "end_time": "2024-09-22T00:01:28.855388Z",
     "start_time": "2024-09-22T00:01:21.381703Z"
    }
   },
   "outputs": [],
   "source": [
    "\n",
    "# Load documents from a directory (you can change this path as needed)\n",
    "documents = SimpleDirectoryReader(\"data\").load_data()\n",
    "\n",
    "# Create an index from the documents\n",
    "index = VectorStoreIndex.from_documents(documents)\n",
    "\n",
    "# Create a query engine\n",
    "query_engine = index.as_query_engine()"
   ]
  },
  {
   "cell_type": "code",
   "execution_count": 13,
   "id": "77e03f851ea3bbaa",
   "metadata": {
    "ExecuteTime": {
     "end_time": "2024-09-22T00:02:10.394903Z",
     "start_time": "2024-09-22T00:02:08.971749Z"
    }
   },
   "outputs": [
    {
     "name": "stdout",
     "output_type": "stream",
     "text": [
      "The strategic plan covers the years 2024-28.\n"
     ]
    }
   ],
   "source": [
    "# Example query\n",
    "response = query_engine.query(\"What years does the strategic plan cover?\")\n",
    "\n",
    "print(response)"
   ]
  }
 ],
 "metadata": {
  "kernelspec": {
   "display_name": "Python 3 (ipykernel)",
   "language": "python",
   "name": "python3"
  },
  "language_info": {
   "codemirror_mode": {
    "name": "ipython",
    "version": 3
   },
   "file_extension": ".py",
   "mimetype": "text/x-python",
   "name": "python",
   "nbconvert_exporter": "python",
   "pygments_lexer": "ipython3",
   "version": "3.12.6"
  }
 },
 "nbformat": 4,
 "nbformat_minor": 5
}
